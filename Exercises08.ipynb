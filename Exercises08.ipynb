{
 "cells": [
  {
   "cell_type": "markdown",
   "metadata": {},
   "source": [
    "# Computational Astrophysics\n",
    "## 08. Exercises"
   ]
  },
  {
   "cell_type": "markdown",
   "metadata": {},
   "source": [
    "**Name:** \n",
    "\n",
    "---"
   ]
  },
  {
   "cell_type": "markdown",
   "metadata": {},
   "source": [
    "\n",
    "## 1. Curve Fitting: The $M_\\mathrm{BH}-\\sigma_*$ Relation\n",
    "**`Carroll and Ostlie (2017). Section 25.2`**\n",
    "\n",
    "In 2006, Greene and Ho studied the characteristics of 88 galaxies to show that there is an apparent relationship between the stellar velocity dispersion $\\sigma_*$ in a galaxy bulge and the mass $M_\\mathrm{BH}$ of the supermassive black hole at its\n",
    "center, as shown in the Figure below. This  is known as the $M_\\mathrm{BH}-\\sigma_*$ relation and is not yet  completely understood. \n",
    "\n",
    "\n",
    "Greene, J. E. and Ho, L. C. *The MBH − σ∗ Relation in Local Active Galaxies*. ApJ 641 L21 (2006)\n",
    "https://ui.adsabs.harvard.edu/abs/2006ApJ...641L..21G/abstract\n",
    "\n",
    "The dataset used by Greene and Ho is available online in various formats at\n",
    "\n",
    "http://vizier.cfa.harvard.edu/viz-bin/VizieR?-source=J/ApJ/641/L21.\n",
    "\n",
    "1. Following Greene and Ho, we will make a linear fit between the variables $\\log M$ and $\\log \\left( \\frac{\\sigma_*}{\\sigma_0} \\right)$  where the constant $\\sigma_0 = 200$ is a reference value given by the authors. Add a column for this log of the velocity dispersion and make a scatter plot showing the data $\\log_\\mathrm{10} M$ as a function of $\\log_\\mathrm{10}\n",
    "\\left( \\frac{\\sigma_*}{\\sigma_0} \\right)$.\n",
    "\n",
    "2. Compute a linear regression fit to the data (ignoring errors). Make a plot of data and fit. Compare your fit results to that of Greene \\& Ho (2006) in Figure.\n",
    "\n",
    "3. Include the errors in $\\log_\\mathrm{10} \\sigma_*$ and $\\log_\\mathrm{10} M_\\mathrm{BH}$ in your fit. There may be multiple errors given, use your judgement which ones to pick. How does this change your fit?\n",
    "\n",
    "\n",
    "\n",
    "<img src=\"msigma.png\" width=\"400\"/>\n"
   ]
  },
  {
   "cell_type": "markdown",
   "metadata": {},
   "source": [
    "¡¡ Happy Coding !!"
   ]
  }
 ],
 "metadata": {
  "kernelspec": {
   "display_name": "Python 3",
   "language": "python",
   "name": "python3"
  },
  "language_info": {
   "codemirror_mode": {
    "name": "ipython",
    "version": 3
   },
   "file_extension": ".py",
   "mimetype": "text/x-python",
   "name": "python",
   "nbconvert_exporter": "python",
   "pygments_lexer": "ipython3",
   "version": "3.7.4"
  }
 },
 "nbformat": 4,
 "nbformat_minor": 2
}
